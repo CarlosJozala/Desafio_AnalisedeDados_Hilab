{
  "nbformat": 4,
  "nbformat_minor": 0,
  "metadata": {
    "colab": {
      "provenance": [],
      "authorship_tag": "ABX9TyPV4XP1oXQoU6VccToDkJDJ",
      "include_colab_link": true
    },
    "kernelspec": {
      "name": "python3",
      "display_name": "Python 3"
    },
    "language_info": {
      "name": "python"
    }
  },
  "cells": [
    {
      "cell_type": "markdown",
      "metadata": {
        "id": "view-in-github",
        "colab_type": "text"
      },
      "source": [
        "<a href=\"https://colab.research.google.com/github/CarlosJozala/Desafio_AnalisedeDados_Hilab/blob/main/TesteManaus_CarlosJozala.ipynb\" target=\"_parent\"><img src=\"https://colab.research.google.com/assets/colab-badge.svg\" alt=\"Open In Colab\"/></a>"
      ]
    },
    {
      "cell_type": "code",
      "source": [
        "#1 Etapa - Transformar o Arquivo JSON em CSV\n",
        "import csv\n",
        "import json\n",
        "\n",
        "def json_to_csv(json_file, csv_file):\n",
        "    with open(json_file) as f:\n",
        "        data = json.load(f)\n",
        "    with open(csv_file, \"w\") as f:\n",
        "        writer = csv.writer(f)\n",
        "        writer.writerow([\"year\", \"sex\", \"name\", \"n\", \"prop\"])\n",
        "        for row in data:\n",
        "            writer.writerow([row[\"year\"], row[\"sex\"], row[\"name\"], row[\"n\"], row[\"prop\"]])\n",
        "\n",
        "json_to_csv(\"parte1.json\", \"parte1.csv\")"
      ],
      "metadata": {
        "id": "SGgq5219j0mX"
      },
      "execution_count": 4,
      "outputs": []
    },
    {
      "cell_type": "code",
      "source": [
        "#2 Etapa - Transformar o Arquivo SQLLITE para CSV\n",
        "import sqlite3\n",
        "import pandas as pd\n",
        "\n",
        "# Conexão ao banco de dados SQLite\n",
        "conn = sqlite3.connect(\"parte3.sqlite\")\n",
        "\n",
        "# Lê os dados do banco de dados em um dataframe do pandas\n",
        "df = pd.read_sql_query(\"SELECT year, sex, name, n, prop FROM parte3 WHERE tipo_dado = 1\", conn)\n",
        "\n",
        "# Salva o dataframe como um arquivo CSV\n",
        "df.to_csv(\"parte3_filtrado.csv\", index=False)\n",
        "\n",
        "# Encerra conexão com o banco de dados\n",
        "conn.close()"
      ],
      "metadata": {
        "id": "THcazFKYj1lD"
      },
      "execution_count": 2,
      "outputs": []
    },
    {
      "cell_type": "code",
      "source": [
        "#3 Etapa - Unificar os CSVs\n",
        "\n",
        "import pandas as pd\n",
        "\n",
        "parte1 = pd.read_csv(\"parte1.csv\")\n",
        "parte2 = pd.read_csv(\"parte2.csv\")\n",
        "parte3 = pd.read_csv(\"parte3_filtrado.csv\")\n",
        "\n",
        "# Concatena todos os DataFrames juntos\n",
        "dataset = pd.concat([parte1, parte2, parte3])\n",
        "\n",
        "# Salva o dataset unificado como um novo arquivo CSV \"dataset_unificado.csv\"\n",
        "dataset.to_csv(\"dataset_unificado.csv\", index=False)"
      ],
      "metadata": {
        "id": "i20unaPKmwha"
      },
      "execution_count": 5,
      "outputs": []
    },
    {
      "cell_type": "code",
      "source": [
        "# 1 - Questão: Quantos nomes diferentes existem por ano a partir de 2000? Forneça uma tabela e demonstre os resultados graficamente.\n",
        "\n",
        "import pandas as pd\n",
        "import matplotlib.pyplot as plt\n",
        "\n",
        "# Lê o arquivo CSV em um dataframe do pandas\n",
        "df = pd.read_csv(\"dataset_unificado.csv\")\n",
        "\n",
        "# Seleciona somente os dados a partir de 2000\n",
        "df = df[df['year'] >= 2000]\n",
        "\n",
        "# Agrupa os dados por ano e nome e conte o número de ocorrências de cada nome\n",
        "grouped = df.groupby(['year', 'name']).size().reset_index(name='count')\n",
        "\n",
        "# Conta o número de nomes únicos por ano\n",
        "unique_names_by_year = grouped.groupby(['year']).size().reset_index(name='unique_names')\n",
        "\n",
        "# Exibe a tabela de resultados\n",
        "print(unique_names_by_year)\n",
        "\n",
        "# Cria um gráfico de barras mostrando o número de nomes únicos por ano\n",
        "plt.figure(figsize=(10, 6))\n",
        "plt.bar(unique_names_by_year['year'], unique_names_by_year['unique_names'], color='orange')\n",
        "plt.xlabel('Ano')\n",
        "plt.ylabel('Nomes Únicos')\n",
        "plt.title('Número de Nomes Únicos por Ano')\n",
        "\n",
        "# Ajusta o espaçamento do eixo x\n",
        "plt.xticks(unique_names_by_year['year'], unique_names_by_year['year'], rotation=45)\n",
        "plt.ylim(bottom=20000)\n",
        "\n",
        "plt.show()\n"
      ],
      "metadata": {
        "colab": {
          "base_uri": "https://localhost:8080/",
          "height": 767
        },
        "id": "3EklQNfuzYGI",
        "outputId": "607255fb-0e8f-444f-91c4-079c152b4105"
      },
      "execution_count": 21,
      "outputs": [
        {
          "output_type": "stream",
          "name": "stdout",
          "text": [
            "    year  unique_names\n",
            "0   2000         27512\n",
            "1   2001         27980\n",
            "2   2002         28279\n",
            "3   2003         28886\n",
            "4   2004         29501\n",
            "5   2005         30153\n",
            "6   2006         31624\n",
            "7   2007         32416\n",
            "8   2008         32510\n",
            "9   2009         32242\n",
            "10  2010         31623\n",
            "11  2011         31449\n",
            "12  2012         31279\n",
            "13  2013         30834\n",
            "14  2014         30731\n",
            "15  2015         30583\n",
            "16  2016         30386\n",
            "17  2017         29910\n"
          ]
        },
        {
          "output_type": "display_data",
          "data": {
            "text/plain": [
              "<Figure size 720x432 with 1 Axes>"
            ],
            "image/png": "[encoded data removed]"
          },
          "metadata": {
            "needs_background": "light"
          }
        }
      ]
    },
    {
      "cell_type": "code",
      "source": [
        "#Questão 2 - Qual a média e a mediana da contagem de bebês no dataset. Qual dessas medidas de tendência central você escolheria para descrever esse dado, justifique sua opção.\n",
        "\n",
        "import pandas as pd\n",
        "import numpy as np\n",
        "\n",
        "#Lê o arquivo CSV em um dataframe do pandas\n",
        "df = pd.read_csv(\"dataset_unificado.csv\")\n",
        "\n",
        "# Agrupa os dados por ano e nome e conte o número de ocorrências de cada nome\n",
        "grouped = df.groupby(['year', 'name']).size().reset_index(name='count')\n",
        "\n",
        "# Calcula a média e a mediana da contagem de bebês\n",
        "mean_count = grouped['count'].mean()\n",
        "median_count = grouped['count'].median()\n",
        "\n",
        "print(\"A média da contagem de bebês é:\", mean_count)\n",
        "print(\"A mediana da contagem de bebês é:\", median_count)\n"
      ],
      "metadata": {
        "colab": {
          "base_uri": "https://localhost:8080/"
        },
        "id": "-LVM3FVazvzb",
        "outputId": "b491d4fc-7e38-4c69-bd83-86ace7b561cf"
      },
      "execution_count": 30,
      "outputs": [
        {
          "output_type": "stream",
          "name": "stdout",
          "text": [
            "A média da contagem de bebês é: 1.09587344643577\n",
            "A mediana da contagem de bebês é: 1.0\n"
          ]
        }
      ]
    },
    {
      "cell_type": "markdown",
      "source": [
        "Escolha a mediana para descrever esse dado, pois ela é menos afetada por valores extremos (outliers) do que a média. Além disso, a mediana é uma medida mais robusta para representar o valor central dos dados, especialmente em conjuntos de dados com distribuição assimétrica."
      ],
      "metadata": {
        "id": "1tgySuM60noQ"
      }
    },
    {
      "cell_type": "code",
      "source": [
        "# Questão 3 - Qual a média e desvio padrão da contagem de bebês no ano de 1997?\n",
        "import pandas as pd\n",
        "import numpy as np\n",
        "\n",
        "# Lê o arquivo CSV em um dataframe do pandas\n",
        "df = pd.read_csv(\"dataset_unificado.csv\")\n",
        "\n",
        "# Filtra somente os dados do ano 1997\n",
        "df_1997 = df[df['year'] == 1997]\n",
        "\n",
        "# Calcula a média da contagem de bebês no ano de 1997\n",
        "mean_1997 = df_1997['n'].mean()\n",
        "\n",
        "# Calcula o desvio padrão da contagem de bebês no ano de 1997\n",
        "mean = round(df['n'].mean(), 2)\n",
        "std_dev = round(df['n'].std(), 2)\n",
        "\n",
        "print(\"A média da contagem de bebês no ano de 1997 é:\", mean)\n",
        "print(\"O desvio padrão da contagem de bebês no ano de 1997 é:\", std_dev)\n"
      ],
      "metadata": {
        "colab": {
          "base_uri": "https://localhost:8080/"
        },
        "id": "95GugAD00waa",
        "outputId": "3a110355-21dd-46ac-b83a-fcf4eecf17f9"
      },
      "execution_count": 25,
      "outputs": [
        {
          "output_type": "stream",
          "name": "stdout",
          "text": [
            "A média da contagem de bebês no ano de 1997 é: 180.87\n",
            "O desvio padrão da contagem de bebês no ano de 1997 é: 1533.34\n"
          ]
        }
      ]
    },
    {
      "cell_type": "code",
      "source": [
        "#Questão 4 - Levando em conta que o dataset engloba o nascimento de todos os bebês do país imaginário Hilablândia. \n",
        "#Qual o total de nascimentos no ano de 2002? Desses, quantos são do sexo feminino e quantos do sexo masculino?\n",
        "\n",
        "import pandas as pd\n",
        "\n",
        "# Lê o arquivo CSV em um dataframe do pandas\n",
        "df = pd.read_csv(\"dataset_unificado.csv\")\n",
        "\n",
        "# Seleciona somente os dados do ano de 2002\n",
        "df = df[df['year'] == 2002]\n",
        "\n",
        "# Agrupa os dados por sexo e calcule a contagem total de nascimentos\n",
        "grouped = df.groupby(['sex']).size().reset_index(name='count')\n",
        "\n",
        "# Imprime o resultado\n",
        "print(\"No ano de 2002, o total de nascimentos foi de \", df['n'].sum(), \"bebês.\")\n",
        "print(grouped)\n"
      ],
      "metadata": {
        "colab": {
          "base_uri": "https://localhost:8080/"
        },
        "id": "Vq5ddmWJ1zUF",
        "outputId": "843a2089-9c9f-430e-85a4-2397aa4eb87e"
      },
      "execution_count": 28,
      "outputs": [
        {
          "output_type": "stream",
          "name": "stdout",
          "text": [
            "No ano de 2002, o total de nascimentos foi de  3736042 bebês.\n",
            "  sex  count\n",
            "0   F  18081\n",
            "1   M  12482\n"
          ]
        }
      ]
    }
  ]
}